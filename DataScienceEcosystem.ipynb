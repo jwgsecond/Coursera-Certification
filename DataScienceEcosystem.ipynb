{
 "cells": [
  {
   "cell_type": "markdown",
   "id": "5c9c57fe",
   "metadata": {},
   "source": [
    "# Data Science Tools and Ecosystem"
   ]
  },
  {
   "cell_type": "markdown",
   "id": "852c89ec",
   "metadata": {},
   "source": [
    "In this notebook, Data Science Tools and Ecosystems are summarized."
   ]
  },
  {
   "cell_type": "markdown",
   "id": "43fd4f4c",
   "metadata": {},
   "source": [
    "Some of the popular languages that Data Scientists use are:\n",
    "<ol>\n",
    "  <li>Python</li>\n",
    "  <li>R</li>\n",
    "  <li>Julia</li>\n",
    "  <li>Java</li>\n",
    "</ol>"
   ]
  },
  {
   "cell_type": "markdown",
   "id": "16ba78a0",
   "metadata": {},
   "source": [
    "Some of the commonly used libraries used by Data Scientists include:\n",
    "<ol>\n",
    "  <li>Pandas</li>\n",
    "  <li>ggplot</li>\n",
    "  <li>matplotlib</li>\n",
    "  <li>seaborn</li>\n",
    "</ol>"
   ]
  },
  {
   "cell_type": "markdown",
   "id": "f667728c",
   "metadata": {},
   "source": [
    "### Data Science Tools"
   ]
  },
  {
   "cell_type": "markdown",
   "id": "38beea8f",
   "metadata": {},
   "source": [
    "|Data Science Tools| \n",
    "| -------|\n",
    "| Apache Spark|\n",
    "| SQL |\n",
    "| Python |\n"
   ]
  },
  {
   "cell_type": "markdown",
   "id": "9cd416a3",
   "metadata": {},
   "source": [
    "### Below are a few examples of evaluating arithmetic expressions in Python:\n",
    "\n"
   ]
  },
  {
   "cell_type": "code",
   "execution_count": 4,
   "id": "d36fe901",
   "metadata": {},
   "outputs": [
    {
     "data": {
      "text/plain": [
       "17"
      ]
     },
     "execution_count": 4,
     "metadata": {},
     "output_type": "execute_result"
    }
   ],
   "source": [
    "# This a simple arithmetic expression to mutiply then add integers\n",
    "(3*4)+5"
   ]
  },
  {
   "cell_type": "code",
   "execution_count": 5,
   "id": "cd2118b4",
   "metadata": {},
   "outputs": [
    {
     "data": {
      "text/plain": [
       "3.3333333333333335"
      ]
     },
     "execution_count": 5,
     "metadata": {},
     "output_type": "execute_result"
    }
   ],
   "source": [
    "#  This will convert 200 minutes to hours by diving by 60\n",
    "200/60"
   ]
  },
  {
   "cell_type": "markdown",
   "id": "bd5a3d70",
   "metadata": {},
   "source": [
    "### **Objectives**\n",
    "\n",
    "This notebook included a variety of information:\n",
    "- Data Science Tools\n",
    "- Commonly used libraries\n",
    "- Popular Languages"
   ]
  },
  {
   "cell_type": "markdown",
   "id": "87c70819",
   "metadata": {},
   "source": [
    "### Author:\n",
    "\n",
    "W G"
   ]
  },
  {
   "cell_type": "code",
   "execution_count": null,
   "id": "22408428",
   "metadata": {},
   "outputs": [],
   "source": []
  }
 ],
 "metadata": {
  "kernelspec": {
   "display_name": "Python 3 (ipykernel)",
   "language": "python",
   "name": "python3"
  },
  "language_info": {
   "codemirror_mode": {
    "name": "ipython",
    "version": 3
   },
   "file_extension": ".py",
   "mimetype": "text/x-python",
   "name": "python",
   "nbconvert_exporter": "python",
   "pygments_lexer": "ipython3",
   "version": "3.9.12"
  }
 },
 "nbformat": 4,
 "nbformat_minor": 5
}
